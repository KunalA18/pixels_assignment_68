{
 "cells": [
  {
   "cell_type": "markdown",
   "metadata": {
    "id": "iiomo2JZF4xk"
   },
   "source": [
    "# Assignment\n",
    "\n"
   ]
  },
  {
   "cell_type": "markdown",
   "metadata": {},
   "source": [
    "## A few basic exercises\n",
    "### Variable Assignment\n",
    "* Try a program to display your name using a variable\n",
    "* Try changing that variable in code itself to something else\n",
    "* Try assiging one variable to other and changing one's value\n"
   ]
  },
  {
   "cell_type": "code",
   "execution_count": 1,
   "metadata": {},
   "outputs": [
    {
     "name": "stdout",
     "output_type": "stream",
     "text": [
      "kunal\n",
      "30\n",
      "Agarwal\n"
     ]
    }
   ],
   "source": [
    "a= \"kunal\"\n",
    "b= \"Agarwal\"\n",
    "\n",
    "# Write code to print the variable a \n",
    "print(a)\n",
    "\n",
    "############\n",
    "\n",
    "# Write Code to Change variable a into 30\n",
    "a=30\n",
    "print(a)\n",
    "\n",
    "############\n",
    "\n",
    "# Write Code to assign variable a the value of b\n",
    "a=b\n",
    "print(a)\n",
    "\n",
    "############\n"
   ]
  },
  {
   "cell_type": "markdown",
   "metadata": {},
   "source": [
    "### Multiple Assignment\n",
    "\n",
    "* Try Reversing the assignements i.e. new a should be 3, b should be 2 and c should be 1"
   ]
  },
  {
   "cell_type": "code",
   "execution_count": 2,
   "metadata": {},
   "outputs": [
    {
     "name": "stdout",
     "output_type": "stream",
     "text": [
      "3 2 1\n"
     ]
    }
   ],
   "source": [
    "a,b,c = 1,2,3\n",
    "\n",
    "## write a single line code to reverse a,b,c using multiple assignment\n",
    "a,b,c=c,b,a\n",
    "\n",
    "######\n",
    "print(a,b,c)"
   ]
  },
  {
   "cell_type": "markdown",
   "metadata": {},
   "source": [
    "### String\n",
    "\n",
    "* Try reversing string in one line as compared to conventional loops\n"
   ]
  },
  {
   "cell_type": "code",
   "execution_count": 3,
   "metadata": {},
   "outputs": [
    {
     "name": "stdout",
     "output_type": "stream",
     "text": [
      "!tset a si siht\n"
     ]
    }
   ],
   "source": [
    "string = \"this is a test!\"\n",
    "\n",
    "## Write Code to reverse string in one line\n",
    "string=string[-1::-1]\n",
    "##\n",
    "\n",
    "print(string)"
   ]
  },
  {
   "cell_type": "markdown",
   "metadata": {
    "id": "QMpTD6PQzkHZ"
   },
   "source": [
    "# Operators"
   ]
  },
  {
   "cell_type": "markdown",
   "metadata": {
    "id": "jBP8kRW4z2lv"
   },
   "source": [
    "You are provided with a list of Clubs in VJTI:\n",
    "clubs = ['SRA' , 'Aero' , 'Racing' , 'DSC' , 'COC']\n",
    "And a list of clubs you are a member of:\n",
    "membership= ['SRA' , 'DSC']\n",
    "\n",
    "You have to perform the following tasks:\n",
    "\n",
    "1.   Create a boolean list respective to the clubs you are a member of without using the '==' operator:\n",
    "Expected output: [true,false,false,true,false] HINT: use the membership operator\n",
    "\n",
    "2.   Convert the boolean list into a list of binary one or zero without using the operator '=='. Expected output: [1,0,0,1,0]\n",
    "HINT: Check out identity operator"
   ]
  },
  {
   "cell_type": "code",
   "execution_count": 4,
   "metadata": {
    "id": "hWE8HMmFzy8j"
   },
   "outputs": [
    {
     "name": "stdout",
     "output_type": "stream",
     "text": [
      "['true', 'false', 'false', 'true', 'false']\n",
      "['1', '0', '0', '1', '0']\n"
     ]
    }
   ],
   "source": [
    "clubs = ['SRA' , 'Aero' , 'Racing' , 'DSC' , 'COC'] \n",
    "membership= ['SRA' , 'DSC']\n",
    "# Write your code \n",
    "lst=[]\n",
    "for i in clubs:\n",
    "    if(i in membership):\n",
    "        lst.append('true')\n",
    "    else:\n",
    "        lst.append('false')\n",
    "print(lst)        \n",
    "num=[]\n",
    "for i in clubs:\n",
    "    if(i in membership):\n",
    "        num.append('1')\n",
    "    else:\n",
    "        num.append('0')\n",
    "print(num)        \n"
   ]
  },
  {
   "cell_type": "markdown",
   "metadata": {
    "id": "LTbYqBpx2W8h"
   },
   "source": [
    "You are provided with the following:\n",
    "expression = 4_6_9_3_23_19\n",
    "Using the operators: +,-,*, /, % in places of the _ make an expression that reads the value: 25.0."
   ]
  },
  {
   "cell_type": "code",
   "execution_count": 5,
   "metadata": {
    "id": "mKaJrL6w3oR3"
   },
   "outputs": [
    {
     "name": "stdout",
     "output_type": "stream",
     "text": [
      "46932319\n",
      "25.0\n"
     ]
    }
   ],
   "source": [
    "expression = 4_6_9_3_23_19 \n",
    "print(expression)\n",
    "\n",
    "# write your code here\n",
    "exp= 4*6-9/3+23%19\n",
    "print(exp)\n"
   ]
  },
  {
   "cell_type": "markdown",
   "metadata": {
    "id": "gaciSf_w3wdN"
   },
   "source": [
    "# Control Statements"
   ]
  },
  {
   "cell_type": "markdown",
   "metadata": {
    "id": "C3wLYw-Y32Ap"
   },
   "source": [
    "Complete the for loop such that whenever there is an prime number it prints the number plus \"I was a prime\" in the same line, otherwise it prints nothing.  \n",
    "\n",
    "\n",
    "Using the looping statement and the control statements  \n",
    "\n"
   ]
  },
  {
   "cell_type": "code",
   "execution_count": 6,
   "metadata": {
    "id": "9O0v4M2C5CAq"
   },
   "outputs": [
    {
     "name": "stdout",
     "output_type": "stream",
     "text": [
      "2 I was a prime\n",
      "3 I was a prime\n",
      "5 I was a prime\n",
      "7 I was a prime\n",
      "11 I was a prime\n",
      "13 I was a prime\n",
      "17 I was a prime\n",
      "19 I was a prime\n",
      "23 I was a prime\n",
      "29 I was a prime\n",
      "31 I was a prime\n",
      "37 I was a prime\n",
      "41 I was a prime\n",
      "43 I was a prime\n",
      "47 I was a prime\n",
      "53 I was a prime\n",
      "59 I was a prime\n",
      "61 I was a prime\n",
      "67 I was a prime\n",
      "71 I was a prime\n",
      "73 I was a prime\n",
      "79 I was a prime\n",
      "83 I was a prime\n",
      "89 I was a prime\n",
      "97 I was a prime\n",
      "I was a prime\n"
     ]
    }
   ],
   "source": [
    "for i in range(100):\n",
    "  # Write Code here\n",
    "    count=0\n",
    "    for n in range(1,i+1):\n",
    "        if(i%n==0):\n",
    "            count+=1\n",
    "        else:\n",
    "            continue\n",
    "    if(count==2):\n",
    "        print(i,\"I was a prime\")\n",
    "       \n",
    "        \n",
    "  #Don't tamper the next line\n",
    "print(\"I was a prime\")"
   ]
  },
  {
   "cell_type": "markdown",
   "metadata": {
    "id": "-_wYEMJPS3pq"
   },
   "source": [
    "# Lists"
   ]
  },
  {
   "cell_type": "markdown",
   "metadata": {
    "id": "-ZdE30HvLh2G"
   },
   "source": [
    "Write a Python program to count the number of strings where the string length is 2 or more and the first and last character are same from a given list of strings. Go to the editor  \n",
    "**Sample Input** :['abc', 'xyz', 'aba', '1221']   \n",
    "**Sample Output** :2  \n",
    "**Explanation** :'aba' and '1221' have length greater than 2 and also has matching first and last character.   "
   ]
  },
  {
   "cell_type": "code",
   "execution_count": 7,
   "metadata": {
    "id": "Xk1x-6zrSpYo"
   },
   "outputs": [
    {
     "name": "stdout",
     "output_type": "stream",
     "text": [
      "2\n"
     ]
    }
   ],
   "source": [
    "list1 = ['abc','xyz','aba','1221']\n",
    "# Write your code here\n",
    "count=0\n",
    "for i in list1:\n",
    "    if(len(i)>=2 and i[0]==i[len(i)-1]):\n",
    "        count+=1\n",
    "    else:\n",
    "        continue\n",
    "print(count)   \n",
    "    \n",
    "    "
   ]
  },
  {
   "cell_type": "markdown",
   "metadata": {
    "id": "PFEX3PKtSwj3"
   },
   "source": [
    "Write a Python program to print the numbers of a specified list after removing even numbers from it.  \n",
    "**Hint** : Use List Comprehension"
   ]
  },
  {
   "cell_type": "code",
   "execution_count": 8,
   "metadata": {
    "id": "csR4tZzLVXTq"
   },
   "outputs": [
    {
     "data": {
      "text/plain": [
       "[1, 3, 5, 7, 9]"
      ]
     },
     "execution_count": 8,
     "metadata": {},
     "output_type": "execute_result"
    }
   ],
   "source": [
    "# Write your code here\n",
    "full=[1,2,3,4,5,6,7,8,9,10]\n",
    "for i in full:\n",
    "    full.remove(i+1)\n",
    "    i=i+2\n",
    "full    \n",
    "\n"
   ]
  },
  {
   "cell_type": "markdown",
   "metadata": {
    "id": "P3dm0udUVcmB"
   },
   "source": [
    "# Dictionaries"
   ]
  },
  {
   "cell_type": "markdown",
   "metadata": {
    "id": "7pZi-gqWVhpy"
   },
   "source": [
    "Delete set of keys (keysToRemove) from a dictionary and display the resultant dictionary  \n",
    "**Given** :"
   ]
  },
  {
   "cell_type": "markdown",
   "metadata": {
    "id": "Z8gkalnDXoo1"
   },
   "source": [
    "**Expected Output**:"
   ]
  },
  {
   "cell_type": "markdown",
   "metadata": {
    "id": "Q-_5I8sjXsWH"
   },
   "source": [
    "{'city': 'New york', 'age': 25}"
   ]
  },
  {
   "cell_type": "code",
   "execution_count": 9,
   "metadata": {
    "id": "Z8zSdTdBZpMr"
   },
   "outputs": [
    {
     "data": {
      "text/plain": [
       "{'age': 25, 'city': 'New york'}"
      ]
     },
     "execution_count": 9,
     "metadata": {},
     "output_type": "execute_result"
    }
   ],
   "source": [
    "# Given Dictionary\n",
    "sampleDict = {\n",
    "  \"name\": \"Kelly\",\n",
    "  \"age\":25,\n",
    "  \"salary\": 8000,\n",
    "  \"city\": \"New york\"\n",
    "  \n",
    "}\n",
    "\n",
    "# remove the keys present in the list below from the dictionary \n",
    "keysToRemove = [\"name\", \"salary\"]\n",
    "\n",
    "# Write your code here\n",
    "sampleDict.pop(\"name\")\n",
    "sampleDict.pop(\"salary\")\n",
    "sampleDict\n"
   ]
  },
  {
   "cell_type": "markdown",
   "metadata": {
    "id": "rV5O1kFoXvY4"
   },
   "source": [
    "Write a program in Python to read the admission number, name of student and his/her stream of 10 students and create a dictionary from this information. print the dictionary "
   ]
  },
  {
   "cell_type": "code",
   "execution_count": 34,
   "metadata": {
    "id": "y9-SY12sY0_7"
   },
   "outputs": [
    {
     "name": "stdout",
     "output_type": "stream",
     "text": [
      "Enter details of students \n",
      "enter admission number: 1\n",
      "enter name of student: kunal\n",
      "enter stream of student: cs\n",
      "enter admission number: 2\n",
      "enter name of student: darsh\n",
      "enter stream of student: etrx\n",
      "enter admission number: 3\n",
      "enter name of student: apurv\n",
      "enter stream of student: extc\n",
      "enter admission number: 4\n",
      "enter name of student: raj\n",
      "enter stream of student: it\n",
      "enter admission number: 5\n",
      "enter name of student: xyz\n",
      "enter stream of student: textile\n",
      "enter admission number: 6\n",
      "enter name of student: tanmay\n",
      "enter stream of student: cs\n",
      "enter admission number: 7\n",
      "enter name of student: hsg\n",
      "enter stream of student: civil\n",
      "enter admission number: 8\n",
      "enter name of student: sid\n",
      "enter stream of student: cs\n",
      "enter admission number: 9\n",
      "enter name of student: atharva\n",
      "enter stream of student: It\n",
      "enter admission number: 10\n",
      "enter name of student: nsc\n",
      "enter stream of student: prod\n",
      "{1: ['kunal', 'cs'], 2: ['darsh', 'etrx'], 3: ['apurv', 'extc'], 4: ['raj', 'it'], 5: ['xyz', 'textile'], 6: ['tanmay', 'cs'], 7: ['hsg', 'civil'], 8: ['sid', 'cs'], 9: ['atharva', 'It'], 10: ['nsc', 'prod']}\n"
     ]
    }
   ],
   "source": [
    "# Write your code here \n",
    "dict={}\n",
    "print(\"Enter details of students \")\n",
    "for i in range(10):\n",
    "    Adm_no=int(input(\"enter admission number: \"))\n",
    "    name=input(\"enter name of student: \")\n",
    "    stream=input(\"enter stream of student: \")\n",
    "    dict[Adm_no]=[name,stream]\n",
    "print(dict)    "
   ]
  },
  {
   "cell_type": "markdown",
   "metadata": {
    "id": "jBT1hgBV4J_k"
   },
   "source": [
    "\n",
    "\n",
    "# Sets and Tuples"
   ]
  },
  {
   "cell_type": "markdown",
   "metadata": {
    "id": "aO3KNdm74kIC"
   },
   "source": [
    "Check if two sets have any elements in common. If yes, display the common elements.\n",
    "\n",
    "set1 = {10, 20, 30, 40, 50}\n",
    "\n",
    "set2 = {60, 70, 80, 90, 10}\n",
    "\n",
    "\n",
    "**Expected output:**\n",
    "\n",
    "Two sets have items in common\n",
    "\n",
    "{10}"
   ]
  },
  {
   "cell_type": "code",
   "execution_count": 11,
   "metadata": {
    "id": "TiXKBh1p4UUe"
   },
   "outputs": [
    {
     "name": "stdout",
     "output_type": "stream",
     "text": [
      "{10}\n"
     ]
    }
   ],
   "source": [
    "set1 = {10, 20, 30, 40, 50}\n",
    "set2 = {60, 70, 80, 90, 10}\n",
    "\n",
    "# Write your code here to get common elements among them\n",
    "z=set1.intersection(set2)\n",
    "print(z)\n",
    "\n"
   ]
  },
  {
   "cell_type": "markdown",
   "metadata": {
    "id": "CEKFqNN05nNS"
   },
   "source": [
    "Write a Python program to replace last value of tuples in a list.\n",
    "\n",
    "**Sample list:** [(10, 20, 40), (40, 50, 60), (70, 80, 90)]\n",
    "\n",
    "**Expected Output:** [(10, 20, 100), (40, 50, 100), (70, 80, 100)]"
   ]
  },
  {
   "cell_type": "code",
   "execution_count": 12,
   "metadata": {
    "id": "e9v1bRDU4tyC"
   },
   "outputs": [
    {
     "data": {
      "text/plain": [
       "[(10, 20, 100), (40, 50, 100), (70, 80, 100)]"
      ]
     },
     "execution_count": 12,
     "metadata": {},
     "output_type": "execute_result"
    }
   ],
   "source": [
    "list1 = [(10, 20, 40), (40, 50, 60), (70, 80, 90)]\n",
    "\n",
    "# Write your code here to replace last value of tuples in the list\n",
    "tup1=list1[0]\n",
    "tup2=list1[1]\n",
    "tup3=list1[2]\n",
    "tup4=tup1[:2]\n",
    "tup5=tup2[:2]\n",
    "tup6=tup3[:2]\n",
    "tup7=tup4+(100,)\n",
    "tup8=tup5+(100,)\n",
    "tup9=tup6+(100,)\n",
    "list1=[tup7,tup8,tup9]\n",
    "list1\n",
    "\n"
   ]
  },
  {
   "cell_type": "markdown",
   "metadata": {
    "id": "DwM6tKlaIlhO"
   },
   "source": [
    "## Functions"
   ]
  },
  {
   "cell_type": "markdown",
   "metadata": {
    "id": "zrFBbZ48Ivqy"
   },
   "source": [
    "1) Write a function called ```showNumbers``` that takes a parameter called limit. It should print all the numbers between 0 and limit with a label to identify the even and odd numbers. For example, if the limit is 3, it should print:\n",
    "* 0 EVEN\n",
    "* 1 ODD\n",
    "* 2 EVEN\n",
    "* 3 ODD\n"
   ]
  },
  {
   "cell_type": "code",
   "execution_count": 13,
   "metadata": {
    "id": "eo2hNDAkIue-"
   },
   "outputs": [
    {
     "name": "stdout",
     "output_type": "stream",
     "text": [
      "0 EVEN\n",
      "1 ODD\n",
      "2 EVEN\n",
      "3 ODD\n"
     ]
    }
   ],
   "source": [
    "# Write Your code here\n",
    "def showNumbers(limit):\n",
    "    for i in range(limit+1):\n",
    "        if(i%2==0):\n",
    "            print(i,\"EVEN\")\n",
    "        else:\n",
    "            print(i,\"ODD\")\n",
    "showNumbers(3)            \n",
    "            \n"
   ]
  },
  {
   "cell_type": "markdown",
   "metadata": {
    "id": "0olNjioRJezU"
   },
   "source": [
    "2) Write a function that takes limit(integer) as a paramter and prints all the prime numbers between 0 and limit.\n",
    "\n",
    "\n"
   ]
  },
  {
   "cell_type": "code",
   "execution_count": 14,
   "metadata": {
    "id": "707mKltkJoyY"
   },
   "outputs": [
    {
     "name": "stdout",
     "output_type": "stream",
     "text": [
      "2\n",
      "3\n",
      "5\n",
      "7\n",
      "11\n",
      "13\n",
      "17\n",
      "19\n"
     ]
    }
   ],
   "source": [
    "# Write your code here\n",
    "def showprime(limit):\n",
    "    for i in range(limit):\n",
    "        count=0\n",
    "        for n in range(1,i+1):\n",
    "            if(i%n==0):\n",
    "                count+=1\n",
    "            else:\n",
    "                continue\n",
    "        if(count==2):\n",
    "            print(i)\n",
    "       \n",
    "showprime(20)            \n"
   ]
  },
  {
   "cell_type": "markdown",
   "metadata": {
    "id": "Drl7IbTFIBhf"
   },
   "source": [
    "# Classes and Objects"
   ]
  },
  {
   "cell_type": "markdown",
   "metadata": {
    "id": "njc5QPZeJlN7"
   },
   "source": [
    "Write a Python Program to create a class named **Student**. \n",
    "- It should be initialised with attributes like **name, age, rollno, favourite subject**(a single subject).\n",
    "\n",
    "- Write a class method **getDetails()** which prints the name, age and rollno of the object in the below format.\n",
    " \n",
    "  * **Expected Output Format**\n",
    "> Name   : <em>name</em></br>\n",
    "> Age    : <em>age</em></br>\n",
    "> RollNo : <em>rollno</em></br>\n",
    "\n",
    "  * **Expected Example Output**\n",
    "> Name : Gautam</br>\n",
    "Age : 20</br>\n",
    "RollNo : 68\n",
    "\n",
    "- Now, there is a list **fav_list** such that it contains a list of subjects which are favourite to the Principal.\n",
    "\n",
    "  ``` python\n",
    "    fav_list = [\"EG\",\"Mechanics\",\"Chemistry\"]\n",
    "  ``` \n",
    "- You have to write a class Method **isFav()** which returns a boolean value i.e either <em>**true**</em> if any of the favourite subject of the principal matches with that of the student. Think of some suitable logic here.\n",
    "\n",
    "- Create 2 objects of class **Student** with attributes of your choice taken via user input.\n",
    "\n",
    "- Call Both the methods for both the objects. **Note** - Print the result of the **isFav()** method.\n",
    "\n",
    "- **Bonus Task** - Write the body of **isFav()** method in just one line."
   ]
  },
  {
   "cell_type": "code",
   "execution_count": 31,
   "metadata": {
    "id": "hWPxBx0fIOWp"
   },
   "outputs": [
    {
     "name": "stdout",
     "output_type": "stream",
     "text": [
      "enter your name kunal\n",
      "enter your age 18\n",
      "enter your rollno 107\n",
      "enter your fav subject Mechanics\n",
      "Name: kunal Age: 18 Rollno: 107\n",
      "True\n",
      "Name: Rahul Age: 18 Rollno: 87\n",
      "False\n"
     ]
    }
   ],
   "source": [
    "# Write your code here \n",
    "class Student:\n",
    "    \n",
    "    def __init__(self,name,age,rollno,subj):\n",
    "        self.name= name\n",
    "        self.age = age\n",
    "        self.rollno= rollno\n",
    "        self.subj=subj\n",
    "    def getDetails(self):\n",
    "        print(\"Name:\",self.name, \"Age:\",self.age, \"Rollno:\",self.rollno)\n",
    "    def isFav(self):\n",
    "        fav_list = [\"EG\",\"Mechanics\",\"Chemistry\"]\n",
    "#         for i in fav_list:\n",
    "#             if(self.subj== i):\n",
    "#                 print(\"true\")\n",
    "#             else:\n",
    "#                 continue\n",
    "        \n",
    "        print(self.subj in fav_list) #bonus\n",
    "       \n",
    "        \n",
    "n=input(\"enter your name \") \n",
    "a= int(input(\"enter your age \")) \n",
    "r= int(input(\"enter your rollno \"))\n",
    "s=input(\"enter your fav subject \") \n",
    "s1=Student(\"Rahul\",18,87,\"Maths\")\n",
    "s2=Student(n,a,r,s)\n",
    "\n",
    "\n",
    "\n",
    "s2.getDetails()\n",
    "s2.isFav()\n",
    "s1.getDetails()\n",
    "s1.isFav()\n",
    "\n"
   ]
  },
  {
   "cell_type": "code",
   "execution_count": null,
   "metadata": {},
   "outputs": [],
   "source": []
  }
 ],
 "metadata": {
  "colab": {
   "collapsed_sections": [],
   "name": "Python_Pixels_seminar",
   "provenance": [],
   "toc_visible": true
  },
  "kernelspec": {
   "display_name": "Python 3",
   "language": "python",
   "name": "python3"
  },
  "language_info": {
   "codemirror_mode": {
    "name": "ipython",
    "version": 3
   },
   "file_extension": ".py",
   "mimetype": "text/x-python",
   "name": "python",
   "nbconvert_exporter": "python",
   "pygments_lexer": "ipython3",
   "version": "3.9.4"
  }
 },
 "nbformat": 4,
 "nbformat_minor": 1
}
